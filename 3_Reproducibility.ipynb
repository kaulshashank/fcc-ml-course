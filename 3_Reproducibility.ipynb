{
 "cells": [
  {
   "cell_type": "markdown",
   "metadata": {},
   "source": [
    "# Reproducibility\n",
    "\n",
    "\"Trying to take the random out of random\" - Daniel Bourke / FreeCodeCamp\n",
    "\n",
    "\n",
    "`start with random numbers -> tensor operations -> update random numbers to try and make them better represenations of the data -> repeat -> repeat ...`\n",
    "\n",
    "Using a seed to ensure RNG is always the same."
   ]
  },
  {
   "cell_type": "code",
   "execution_count": 3,
   "metadata": {},
   "outputs": [
    {
     "data": {
      "text/plain": [
       "(tensor([[0.6743, 0.0453, 0.1842, 0.2782],\n",
       "         [0.1744, 0.0551, 0.0784, 0.3398],\n",
       "         [0.1899, 0.4196, 0.2562, 0.8422]]),\n",
       " tensor([[0.6039, 0.5261, 0.8058, 0.4526],\n",
       "         [0.7623, 0.7152, 0.5767, 0.1711],\n",
       "         [0.9957, 0.0667, 0.3772, 0.2118]]),\n",
       " tensor([[False, False, False, False],\n",
       "         [False, False, False, False],\n",
       "         [False, False, False, False]]))"
      ]
     },
     "execution_count": 3,
     "metadata": {},
     "output_type": "execute_result"
    }
   ],
   "source": [
    "import torch\n",
    "\n",
    "tensor_A = torch.rand(3, 4)\n",
    "tensor_B = torch.rand(3, 4)\n",
    "\n",
    "tensor_A,tensor_B,tensor_A==tensor_B"
   ]
  },
  {
   "cell_type": "code",
   "execution_count": 6,
   "metadata": {},
   "outputs": [
    {
     "data": {
      "text/plain": [
       "tensor([[True, True, True, True],\n",
       "        [True, True, True, True],\n",
       "        [True, True, True, True]])"
      ]
     },
     "execution_count": 6,
     "metadata": {},
     "output_type": "execute_result"
    }
   ],
   "source": [
    "RANDOM_SEED = 42\n",
    "\n",
    "torch.manual_seed(RANDOM_SEED)\n",
    "tensor_C = torch.rand(3, 4)\n",
    "\n",
    "torch.manual_seed(RANDOM_SEED)\n",
    "tensor_D = torch.rand(3, 4)\n",
    "\n",
    "tensor_C == tensor_D"
   ]
  }
 ],
 "metadata": {
  "kernelspec": {
   "display_name": "Python 3",
   "language": "python",
   "name": "python3"
  },
  "language_info": {
   "codemirror_mode": {
    "name": "ipython",
    "version": 3
   },
   "file_extension": ".py",
   "mimetype": "text/x-python",
   "name": "python",
   "nbconvert_exporter": "python",
   "pygments_lexer": "ipython3",
   "version": "3.11.7"
  }
 },
 "nbformat": 4,
 "nbformat_minor": 2
}
