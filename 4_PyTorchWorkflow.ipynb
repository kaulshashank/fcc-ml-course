{
 "cells": [
  {
   "cell_type": "code",
   "execution_count": 67,
   "metadata": {},
   "outputs": [
    {
     "data": {
      "text/plain": [
       "(True, 1)"
      ]
     },
     "execution_count": 67,
     "metadata": {},
     "output_type": "execute_result"
    }
   ],
   "source": [
    "# Check PyTorch GPU access\n",
    "import torch\n",
    "torch.cuda.is_available(),torch.cuda.device_count()"
   ]
  },
  {
   "cell_type": "code",
   "execution_count": 68,
   "metadata": {},
   "outputs": [
    {
     "data": {
      "text/plain": [
       "device(type='cuda')"
      ]
     },
     "execution_count": 68,
     "metadata": {},
     "output_type": "execute_result"
    }
   ],
   "source": [
    "# Setup device agnostic code\n",
    "device = \"cuda\" if torch.cuda.is_available() else \"cpu\"\n",
    "torch.device(device)"
   ]
  },
  {
   "cell_type": "markdown",
   "metadata": {},
   "source": [
    "# PyTorch workflow\n",
    "\n",
    "1. Prepare and load data sets\n",
    "2. Build a deep learning model\n",
    "3. Fitting the model to data (training)\n",
    "4. Making predictions and evaluating the model (inference)\n",
    "5. Saving and loading a model\n",
    "6. Putting it all together"
   ]
  },
  {
   "cell_type": "code",
   "execution_count": 69,
   "metadata": {},
   "outputs": [
    {
     "data": {
      "text/plain": [
       "'2.1.1+cu121'"
      ]
     },
     "execution_count": 69,
     "metadata": {},
     "output_type": "execute_result"
    }
   ],
   "source": [
    "import torch\n",
    "from torch import nn # contains building blocks of graphs (or for us, neural networks)\n",
    "import matplotlib.pyplot as plt\n",
    "\n",
    "torch.__version__"
   ]
  },
  {
   "cell_type": "markdown",
   "metadata": {},
   "source": [
    "## Preparing and loading data\n",
    "\n",
    "- Excel spreadsheet\n",
    "- Images of any kind\n",
    "- Videos\n",
    "- Audio\n",
    "- Text\n",
    "\n",
    "We'll create some *known* data using **linear regression**."
   ]
  },
  {
   "cell_type": "code",
   "execution_count": 70,
   "metadata": {},
   "outputs": [
    {
     "data": {
      "text/plain": [
       "(tensor([[0.0000],\n",
       "         [0.0200],\n",
       "         [0.0400],\n",
       "         [0.0600],\n",
       "         [0.0800],\n",
       "         [0.1000],\n",
       "         [0.1200],\n",
       "         [0.1400],\n",
       "         [0.1600],\n",
       "         [0.1800]]),\n",
       " tensor([[0.3000],\n",
       "         [0.3140],\n",
       "         [0.3280],\n",
       "         [0.3420],\n",
       "         [0.3560],\n",
       "         [0.3700],\n",
       "         [0.3840],\n",
       "         [0.3980],\n",
       "         [0.4120],\n",
       "         [0.4260]]),\n",
       " 50,\n",
       " 50)"
      ]
     },
     "execution_count": 70,
     "metadata": {},
     "output_type": "execute_result"
    }
   ],
   "source": [
    "weight = 0.7\n",
    "bias = 0.3\n",
    "\n",
    "start = 0\n",
    "end = 1\n",
    "step = 0.02\n",
    "X = torch.arange(start, end, step).unsqueeze(dim = 1)\n",
    "y = weight * X + bias\n",
    "\n",
    "X[:10], y[:10], len(X), len(y)"
   ]
  },
  {
   "cell_type": "markdown",
   "metadata": {},
   "source": [
    "### Splitting data into sets\n",
    "> probably the most important concept in ML\n",
    "\n",
    "- Training set: Model learns from this data (~60-80% of total data). This is always used.\n",
    "- Validation set: Model gets tuned on this data (~10-20% of total data). This is often but not always used.\n",
    "- Testing set: The model gets evaluated on this data to test what it has learned (~10-20%). This is always used."
   ]
  },
  {
   "cell_type": "code",
   "execution_count": 71,
   "metadata": {},
   "outputs": [
    {
     "data": {
      "text/plain": [
       "(40, 10, 40, 10)"
      ]
     },
     "execution_count": 71,
     "metadata": {},
     "output_type": "execute_result"
    }
   ],
   "source": [
    "# crudely split out 80% of data into training split and rest (20%) into test split\n",
    "train_split = int(0.8 * len(X))\n",
    "X_train, y_train = X[:train_split],y[:train_split]\n",
    "X_test, y_test = X[train_split:],y[train_split:]\n",
    "\n",
    "len(X_train),len(X_test),len(y_train),len(y_test)"
   ]
  },
  {
   "cell_type": "code",
   "execution_count": 72,
   "metadata": {},
   "outputs": [],
   "source": [
    "def plot_predictions(train_data=X_train, train_labels=y_train, test_data=X_test, test_labels=y_test, predictions=None):\n",
    "\t\"\"\"\n",
    "\tPlots training data, test data and compares predictions\n",
    "\t\"\"\"\n",
    "\tplt.figure(figsize=(10,7))\n",
    "\n",
    "\t# plot training data in blue\n",
    "\tplt.scatter(train_data, train_labels, c=\"b\", s=4, label=\"Training data\")\n",
    "\n",
    "\t# Plot test data in green\n",
    "\tplt.scatter(test_data, test_labels, c=\"g\", s=4, label=\"Testing data\")\n",
    "\n",
    "\t# Plot predictions if they exist\n",
    "\tif predictions is not None:\n",
    "\t\tplt.scatter(test_data, predictions, c=\"r\", s=4, label=\"Predictions\")\n",
    "\n",
    "\tplt.legend(prop={\"size\": 14})"
   ]
  },
  {
   "cell_type": "code",
   "execution_count": 73,
   "metadata": {},
   "outputs": [
    {
     "data": {
      "image/png": "[encoded data removed]",
      "text/plain": [
       "<Figure size 1000x700 with 1 Axes>"
      ]
     },
     "metadata": {},
     "output_type": "display_data"
    }
   ],
   "source": [
    "plot_predictions()"
   ]
  },
  {
   "cell_type": "markdown",
   "metadata": {},
   "source": [
    "## Build a model\n",
    "\n",
    "What our model does:\n",
    "- Start with random values (weight & bias)\n",
    "- Look at training data and adjust the random values to better represent (or get closer to) the ideal values (the weight & bias values we used to create the data) we used to create the data.\n",
    "\n",
    "How does it do so\n",
    "- Gradient descent\n",
    "- Backpropagation"
   ]
  },
  {
   "cell_type": "code",
   "execution_count": 74,
   "metadata": {},
   "outputs": [],
   "source": [
    "# Create a linear regression model class\n",
    "class LinearRegressionModel(nn.Module): # nn.Module is a base class for all neural network modules\n",
    "\tdef __init__(self) -> None:\n",
    "\t\tsuper().__init__()\n",
    "\t\tself.weight = nn.Parameter(torch.randn(1, requires_grad=True, dtype=torch.float))\n",
    "\t\tself.bias = nn.Parameter(torch.randn(1, requires_grad=True, dtype=torch.float))\n",
    "\n",
    "\t# Forward method to define the computation in the model\n",
    "\tdef forward(self, x: torch.Tensor) -> torch.Tensor:\n",
    "\t\treturn self.weight * x + self.bias # this is the linear regression formula"
   ]
  },
  {
   "cell_type": "markdown",
   "metadata": {},
   "source": [
    "### PyTorch model building essentials\n",
    "\n",
    "- `torch.nn` - contains all of the buildings for computational graphs (a neural network can be considered a computational graph).\n",
    "- `torch.nn.Parameter` - what parameters should our model try and learn, often a PyTorch layer from torch.nn will set these for us.\n",
    "- `torch.nn.Module` - The base class for all neural network modules, if you subclass is, you should implement forward().\n",
    "- `torch.optim` - this is where the optimizers in PyTorch live, they will help with gradient descent.\n",
    "- `def forward()` - Defines the forward computation"
   ]
  },
  {
   "cell_type": "code",
   "execution_count": 75,
   "metadata": {},
   "outputs": [
    {
     "data": {
      "text/plain": [
       "[Parameter containing:\n",
       " tensor([0.3367], requires_grad=True),\n",
       " Parameter containing:\n",
       " tensor([0.1288], requires_grad=True)]"
      ]
     },
     "execution_count": 75,
     "metadata": {},
     "output_type": "execute_result"
    }
   ],
   "source": [
    "# Create a random seed\n",
    "RANDOM_SEED = 42\n",
    "torch.manual_seed(RANDOM_SEED)\n",
    "\n",
    "# Create an instance of the model (this is a subclass of nn.Module)\n",
    "model_0 = LinearRegressionModel()\n",
    "\n",
    "list(model_0.parameters())"
   ]
  },
  {
   "cell_type": "code",
   "execution_count": 76,
   "metadata": {},
   "outputs": [
    {
     "data": {
      "text/plain": [
       "OrderedDict([('weight', tensor([0.3367])), ('bias', tensor([0.1288]))])"
      ]
     },
     "execution_count": 76,
     "metadata": {},
     "output_type": "execute_result"
    }
   ],
   "source": [
    "# List named parameters\n",
    "model_0.state_dict()"
   ]
  },
  {
   "cell_type": "markdown",
   "metadata": {},
   "source": [
    "### Making predictions using `torch.inference_mode()`\n",
    "\n",
    "Module will call our `forward` method to make predictions"
   ]
  },
  {
   "cell_type": "code",
   "execution_count": 77,
   "metadata": {},
   "outputs": [
    {
     "data": {
      "text/plain": [
       "tensor([[0.3982],\n",
       "        [0.4049],\n",
       "        [0.4116],\n",
       "        [0.4184],\n",
       "        [0.4251],\n",
       "        [0.4318],\n",
       "        [0.4386],\n",
       "        [0.4453],\n",
       "        [0.4520],\n",
       "        [0.4588]])"
      ]
     },
     "execution_count": 77,
     "metadata": {},
     "output_type": "execute_result"
    }
   ],
   "source": [
    "with torch.inference_mode():\n",
    "\ty_preds = model_0(X_test)\n",
    "y_preds"
   ]
  },
  {
   "cell_type": "code",
   "execution_count": 78,
   "metadata": {},
   "outputs": [
    {
     "data": {
      "image/png": "[encoded data removed]",
      "text/plain": [
       "<Figure size 1000x700 with 1 Axes>"
      ]
     },
     "metadata": {},
     "output_type": "display_data"
    }
   ],
   "source": [
    "plot_predictions(predictions=y_preds)"
   ]
  },
  {
   "cell_type": "markdown",
   "metadata": {},
   "source": [
    "Predictions were completely off! We need to train..."
   ]
  },
  {
   "cell_type": "markdown",
   "metadata": {},
   "source": [
    "## Train model\n",
    "\n",
    "Go from a poor representation of the data to a better representation of the data.\n",
    "\n",
    "A **loss function** is a way to measure how distant your models predictions are from the desired predictions, which implies the lower the better.\n",
    "\n",
    "An **optimizer** takes into account the loss of a model and adjusts the model's parameters (e.g. weight & bias), to improve the loss function.\n",
    "\n",
    "Specifically for PyTorch, we need:\n",
    "- A training loop\n",
    "- A testing loop"
   ]
  },
  {
   "cell_type": "code",
   "execution_count": 79,
   "metadata": {},
   "outputs": [
    {
     "data": {
      "text/plain": [
       "OrderedDict([('weight', tensor([0.3367])), ('bias', tensor([0.1288]))])"
      ]
     },
     "execution_count": 79,
     "metadata": {},
     "output_type": "execute_result"
    }
   ],
   "source": [
    "model_0.state_dict()"
   ]
  },
  {
   "cell_type": "code",
   "execution_count": 80,
   "metadata": {},
   "outputs": [],
   "source": [
    "# Setup a loss function\n",
    "loss_fn = nn.L1Loss()\n",
    "\n",
    "# Setup an optimizer - stochastic gradient descent\n",
    "optimizer = torch.optim.SGD(\n",
    "\tparams=model_0.parameters(), # the model parameters to optimize\n",
    "\tlr=0.01 # learning rate is a hyperparameter (some that an ML engineer sets) that defines how big/small the optimizer changes the parameters with each step\n",
    ")"
   ]
  },
  {
   "cell_type": "markdown",
   "metadata": {},
   "source": [
    "### Building a training loop in PyTorch\n",
    "\n",
    "A training loop steps:\n",
    "\n",
    "0. Loop through data\n",
    "1. Forward pass: Involves data moving through our model's `forward()` function(s) to make predictions\n",
    "2. Calculate the loss: Compare forward pass predictions to ground truth labels\n",
    "3. Optimize zero grad\n",
    "4. Loss backward (AKA backpropagation): Move backwards through the network to calculate the gradients of each of the parameters of our model with respect to the loss\n",
    "5. Optimizer step (AKA gradient descent)"
   ]
  },
  {
   "cell_type": "code",
   "execution_count": null,
   "metadata": {},
   "outputs": [],
   "source": [
    "# track values in training to plot later\n",
    "epoch_count = []\n",
    "loss_values = []\n",
    "test_loss_values = []"
   ]
  },
  {
   "cell_type": "code",
   "execution_count": 81,
   "metadata": {},
   "outputs": [
    {
     "name": "stdout",
     "output_type": "stream",
     "text": [
      "[0] State: OrderedDict([('weight', tensor([0.3406])), ('bias', tensor([0.1388]))]), Loss: 0.31288138031959534, Test loss: 0.48106518387794495\n",
      "[1] State: OrderedDict([('weight', tensor([0.3445])), ('bias', tensor([0.1488]))]), Loss: 0.3013603389263153, Test loss: 0.4675942063331604\n",
      "[2] State: OrderedDict([('weight', tensor([0.3484])), ('bias', tensor([0.1588]))]), Loss: 0.28983935713768005, Test loss: 0.4541231691837311\n",
      "[3] State: OrderedDict([('weight', tensor([0.3523])), ('bias', tensor([0.1688]))]), Loss: 0.2783183455467224, Test loss: 0.44065219163894653\n",
      "[4] State: OrderedDict([('weight', tensor([0.3562])), ('bias', tensor([0.1788]))]), Loss: 0.26679736375808716, Test loss: 0.4271811842918396\n",
      "[5] State: OrderedDict([('weight', tensor([0.3601])), ('bias', tensor([0.1888]))]), Loss: 0.2552763521671295, Test loss: 0.41371020674705505\n",
      "[6] State: OrderedDict([('weight', tensor([0.3640])), ('bias', tensor([0.1988]))]), Loss: 0.24375534057617188, Test loss: 0.40023916959762573\n",
      "[7] State: OrderedDict([('weight', tensor([0.3679])), ('bias', tensor([0.2088]))]), Loss: 0.23223432898521423, Test loss: 0.3867681920528412\n",
      "[8] State: OrderedDict([('weight', tensor([0.3718])), ('bias', tensor([0.2188]))]), Loss: 0.22071333229541779, Test loss: 0.37329721450805664\n",
      "[9] State: OrderedDict([('weight', tensor([0.3757])), ('bias', tensor([0.2288]))]), Loss: 0.20919232070446014, Test loss: 0.3598262071609497\n",
      "[10] State: OrderedDict([('weight', tensor([0.3796])), ('bias', tensor([0.2388]))]), Loss: 0.1976713240146637, Test loss: 0.3463551998138428\n",
      "[11] State: OrderedDict([('weight', tensor([0.3835])), ('bias', tensor([0.2488]))]), Loss: 0.18615034222602844, Test loss: 0.3328842222690582\n",
      "[12] State: OrderedDict([('weight', tensor([0.3874])), ('bias', tensor([0.2588]))]), Loss: 0.1746293306350708, Test loss: 0.3194132149219513\n",
      "[13] State: OrderedDict([('weight', tensor([0.3913])), ('bias', tensor([0.2688]))]), Loss: 0.16310831904411316, Test loss: 0.30594223737716675\n",
      "[14] State: OrderedDict([('weight', tensor([0.3952])), ('bias', tensor([0.2788]))]), Loss: 0.1515873372554779, Test loss: 0.2924712300300598\n",
      "[15] State: OrderedDict([('weight', tensor([0.3991])), ('bias', tensor([0.2888]))]), Loss: 0.14006635546684265, Test loss: 0.27900025248527527\n",
      "[16] State: OrderedDict([('weight', tensor([0.4030])), ('bias', tensor([0.2988]))]), Loss: 0.1285453587770462, Test loss: 0.2655292749404907\n",
      "[17] State: OrderedDict([('weight', tensor([0.4069])), ('bias', tensor([0.3088]))]), Loss: 0.11702437698841095, Test loss: 0.2520582973957062\n",
      "[18] State: OrderedDict([('weight', tensor([0.4108])), ('bias', tensor([0.3178]))]), Loss: 0.1060912236571312, Test loss: 0.2395961582660675\n",
      "[19] State: OrderedDict([('weight', tensor([0.4146])), ('bias', tensor([0.3258]))]), Loss: 0.09681284427642822, Test loss: 0.22817862033843994\n",
      "[20] State: OrderedDict([('weight', tensor([0.4184])), ('bias', tensor([0.3333]))]), Loss: 0.08908725529909134, Test loss: 0.21729660034179688\n",
      "[21] State: OrderedDict([('weight', tensor([0.4222])), ('bias', tensor([0.3403]))]), Loss: 0.08227583020925522, Test loss: 0.2069590985774994\n",
      "[22] State: OrderedDict([('weight', tensor([0.4258])), ('bias', tensor([0.3463]))]), Loss: 0.07638873159885406, Test loss: 0.19773726165294647\n",
      "[23] State: OrderedDict([('weight', tensor([0.4293])), ('bias', tensor([0.3518]))]), Loss: 0.07160007208585739, Test loss: 0.1890866756439209\n",
      "[24] State: OrderedDict([('weight', tensor([0.4328])), ('bias', tensor([0.3568]))]), Loss: 0.06747635453939438, Test loss: 0.18101617693901062\n",
      "[25] State: OrderedDict([('weight', tensor([0.4361])), ('bias', tensor([0.3613]))]), Loss: 0.06395438313484192, Test loss: 0.17353470623493195\n",
      "[26] State: OrderedDict([('weight', tensor([0.4394])), ('bias', tensor([0.3653]))]), Loss: 0.06097004935145378, Test loss: 0.16665108501911163\n",
      "[27] State: OrderedDict([('weight', tensor([0.4425])), ('bias', tensor([0.3688]))]), Loss: 0.05845819041132927, Test loss: 0.16037428379058838\n",
      "[28] State: OrderedDict([('weight', tensor([0.4455])), ('bias', tensor([0.3718]))]), Loss: 0.05635259300470352, Test loss: 0.15471318364143372\n",
      "[29] State: OrderedDict([('weight', tensor([0.4483])), ('bias', tensor([0.3743]))]), Loss: 0.0545857772231102, Test loss: 0.14967669546604156\n",
      "[30] State: OrderedDict([('weight', tensor([0.4512])), ('bias', tensor([0.3768]))]), Loss: 0.053148526698350906, Test loss: 0.14464017748832703\n",
      "[31] State: OrderedDict([('weight', tensor([0.4539])), ('bias', tensor([0.3788]))]), Loss: 0.05181945487856865, Test loss: 0.14023718237876892\n",
      "[32] State: OrderedDict([('weight', tensor([0.4564])), ('bias', tensor([0.3803]))]), Loss: 0.05069301277399063, Test loss: 0.13647659122943878\n",
      "[33] State: OrderedDict([('weight', tensor([0.4590])), ('bias', tensor([0.3818]))]), Loss: 0.0498228520154953, Test loss: 0.13271598517894745\n",
      "[34] State: OrderedDict([('weight', tensor([0.4615])), ('bias', tensor([0.3833]))]), Loss: 0.04895269125699997, Test loss: 0.12895536422729492\n",
      "[35] State: OrderedDict([('weight', tensor([0.4639])), ('bias', tensor([0.3843]))]), Loss: 0.04819351062178612, Test loss: 0.12584610283374786\n",
      "[36] State: OrderedDict([('weight', tensor([0.4662])), ('bias', tensor([0.3853]))]), Loss: 0.047531817108392715, Test loss: 0.12273679673671722\n",
      "[37] State: OrderedDict([('weight', tensor([0.4684])), ('bias', tensor([0.3858]))]), Loss: 0.04692792519927025, Test loss: 0.1202877014875412\n",
      "[38] State: OrderedDict([('weight', tensor([0.4706])), ('bias', tensor([0.3863]))]), Loss: 0.04642331600189209, Test loss: 0.11783860623836517\n",
      "[39] State: OrderedDict([('weight', tensor([0.4728])), ('bias', tensor([0.3868]))]), Loss: 0.04591871052980423, Test loss: 0.11538954079151154\n",
      "[40] State: OrderedDict([('weight', tensor([0.4748])), ('bias', tensor([0.3868]))]), Loss: 0.04543796554207802, Test loss: 0.11360953003168106\n",
      "[41] State: OrderedDict([('weight', tensor([0.4768])), ('bias', tensor([0.3868]))]), Loss: 0.04503796249628067, Test loss: 0.11182951927185059\n",
      "[42] State: OrderedDict([('weight', tensor([0.4788])), ('bias', tensor([0.3868]))]), Loss: 0.04463795945048332, Test loss: 0.1100495308637619\n",
      "[43] State: OrderedDict([('weight', tensor([0.4808])), ('bias', tensor([0.3868]))]), Loss: 0.04423796385526657, Test loss: 0.10826952755451202\n",
      "[44] State: OrderedDict([('weight', tensor([0.4828])), ('bias', tensor([0.3868]))]), Loss: 0.04383796453475952, Test loss: 0.10648951679468155\n",
      "[45] State: OrderedDict([('weight', tensor([0.4848])), ('bias', tensor([0.3868]))]), Loss: 0.04343796148896217, Test loss: 0.10470950603485107\n",
      "[46] State: OrderedDict([('weight', tensor([0.4866])), ('bias', tensor([0.3863]))]), Loss: 0.043074630200862885, Test loss: 0.10360751301050186\n",
      "[47] State: OrderedDict([('weight', tensor([0.4884])), ('bias', tensor([0.3858]))]), Loss: 0.04272563382983208, Test loss: 0.10250549018383026\n",
      "[48] State: OrderedDict([('weight', tensor([0.4902])), ('bias', tensor([0.3853]))]), Loss: 0.04237663000822067, Test loss: 0.10140349715948105\n",
      "[49] State: OrderedDict([('weight', tensor([0.4920])), ('bias', tensor([0.3848]))]), Loss: 0.04202762991189957, Test loss: 0.10030148178339005\n",
      "[50] State: OrderedDict([('weight', tensor([0.4938])), ('bias', tensor([0.3843]))]), Loss: 0.04167863354086876, Test loss: 0.09919948130846024\n",
      "[51] State: OrderedDict([('weight', tensor([0.4956])), ('bias', tensor([0.3838]))]), Loss: 0.04132963344454765, Test loss: 0.09809747338294983\n",
      "[52] State: OrderedDict([('weight', tensor([0.4974])), ('bias', tensor([0.3833]))]), Loss: 0.04098063334822655, Test loss: 0.09699545800685883\n",
      "[53] State: OrderedDict([('weight', tensor([0.4992])), ('bias', tensor([0.3828]))]), Loss: 0.04063162952661514, Test loss: 0.09589345753192902\n",
      "[54] State: OrderedDict([('weight', tensor([0.5010])), ('bias', tensor([0.3823]))]), Loss: 0.040282636880874634, Test loss: 0.0947914719581604\n",
      "[55] State: OrderedDict([('weight', tensor([0.5028])), ('bias', tensor([0.3818]))]), Loss: 0.039933640509843826, Test loss: 0.09368947893381119\n",
      "[56] State: OrderedDict([('weight', tensor([0.5046])), ('bias', tensor([0.3813]))]), Loss: 0.03958464413881302, Test loss: 0.09258746355772018\n",
      "[57] State: OrderedDict([('weight', tensor([0.5064])), ('bias', tensor([0.3808]))]), Loss: 0.03923564404249191, Test loss: 0.09148545563220978\n",
      "[58] State: OrderedDict([('weight', tensor([0.5082])), ('bias', tensor([0.3803]))]), Loss: 0.03888664394617081, Test loss: 0.09038344770669937\n",
      "[59] State: OrderedDict([('weight', tensor([0.5100])), ('bias', tensor([0.3798]))]), Loss: 0.0385376438498497, Test loss: 0.08928143978118896\n",
      "[60] State: OrderedDict([('weight', tensor([0.5116])), ('bias', tensor([0.3788]))]), Loss: 0.03818932920694351, Test loss: 0.08886633068323135\n",
      "[61] State: OrderedDict([('weight', tensor([0.5134])), ('bias', tensor([0.3783]))]), Loss: 0.03785243630409241, Test loss: 0.08776430785655975\n",
      "[62] State: OrderedDict([('weight', tensor([0.5152])), ('bias', tensor([0.3778]))]), Loss: 0.0375034399330616, Test loss: 0.08666229248046875\n",
      "[63] State: OrderedDict([('weight', tensor([0.5168])), ('bias', tensor([0.3768]))]), Loss: 0.037164121866226196, Test loss: 0.08624717593193054\n",
      "[64] State: OrderedDict([('weight', tensor([0.5186])), ('bias', tensor([0.3763]))]), Loss: 0.03681822493672371, Test loss: 0.08514519035816193\n",
      "[65] State: OrderedDict([('weight', tensor([0.5202])), ('bias', tensor([0.3753]))]), Loss: 0.03647511452436447, Test loss: 0.08473004400730133\n",
      "[66] State: OrderedDict([('weight', tensor([0.5220])), ('bias', tensor([0.3748]))]), Loss: 0.03613303601741791, Test loss: 0.08362803608179092\n",
      "[67] State: OrderedDict([('weight', tensor([0.5236])), ('bias', tensor([0.3738]))]), Loss: 0.03578609973192215, Test loss: 0.08321291208267212\n",
      "[68] State: OrderedDict([('weight', tensor([0.5254])), ('bias', tensor([0.3733]))]), Loss: 0.03544783592224121, Test loss: 0.08211090415716171\n",
      "[69] State: OrderedDict([('weight', tensor([0.5272])), ('bias', tensor([0.3728]))]), Loss: 0.035098835825920105, Test loss: 0.0810088962316513\n",
      "[70] State: OrderedDict([('weight', tensor([0.5288])), ('bias', tensor([0.3718]))]), Loss: 0.03476089984178543, Test loss: 0.0805937647819519\n",
      "[71] State: OrderedDict([('weight', tensor([0.5306])), ('bias', tensor([0.3713]))]), Loss: 0.03441363573074341, Test loss: 0.0794917643070221\n",
      "[72] State: OrderedDict([('weight', tensor([0.5322])), ('bias', tensor([0.3703]))]), Loss: 0.03407188132405281, Test loss: 0.07907666265964508\n",
      "[73] State: OrderedDict([('weight', tensor([0.5340])), ('bias', tensor([0.3698]))]), Loss: 0.03372843936085701, Test loss: 0.07797462493181229\n",
      "[74] State: OrderedDict([('weight', tensor([0.5355])), ('bias', tensor([0.3688]))]), Loss: 0.03338287025690079, Test loss: 0.07755951583385468\n",
      "[75] State: OrderedDict([('weight', tensor([0.5373])), ('bias', tensor([0.3683]))]), Loss: 0.033043231815099716, Test loss: 0.07645749300718307\n",
      "[76] State: OrderedDict([('weight', tensor([0.5391])), ('bias', tensor([0.3678]))]), Loss: 0.03269423171877861, Test loss: 0.07535548508167267\n",
      "[77] State: OrderedDict([('weight', tensor([0.5407])), ('bias', tensor([0.3668]))]), Loss: 0.032357655465602875, Test loss: 0.07494036853313446\n",
      "[78] State: OrderedDict([('weight', tensor([0.5425])), ('bias', tensor([0.3663]))]), Loss: 0.03200903534889221, Test loss: 0.07383836805820465\n",
      "[79] State: OrderedDict([('weight', tensor([0.5441])), ('bias', tensor([0.3653]))]), Loss: 0.03166864812374115, Test loss: 0.07342323660850525\n",
      "[80] State: OrderedDict([('weight', tensor([0.5459])), ('bias', tensor([0.3648]))]), Loss: 0.03132382780313492, Test loss: 0.07232122868299484\n",
      "[81] State: OrderedDict([('weight', tensor([0.5475])), ('bias', tensor([0.3638]))]), Loss: 0.030979642644524574, Test loss: 0.07190609723329544\n",
      "[82] State: OrderedDict([('weight', tensor([0.5493])), ('bias', tensor([0.3633]))]), Loss: 0.030638623982667923, Test loss: 0.07080408930778503\n",
      "[83] State: OrderedDict([('weight', tensor([0.5509])), ('bias', tensor([0.3623]))]), Loss: 0.0302906334400177, Test loss: 0.07038896530866623\n",
      "[84] State: OrderedDict([('weight', tensor([0.5527])), ('bias', tensor([0.3618]))]), Loss: 0.029953425750136375, Test loss: 0.06928696483373642\n",
      "[85] State: OrderedDict([('weight', tensor([0.5545])), ('bias', tensor([0.3613]))]), Loss: 0.02960442565381527, Test loss: 0.06818496435880661\n",
      "[86] State: OrderedDict([('weight', tensor([0.5561])), ('bias', tensor([0.3603]))]), Loss: 0.029265418648719788, Test loss: 0.0677698403596878\n",
      "[87] State: OrderedDict([('weight', tensor([0.5579])), ('bias', tensor([0.3598]))]), Loss: 0.028919223695993423, Test loss: 0.0666678324341774\n",
      "[88] State: OrderedDict([('weight', tensor([0.5595])), ('bias', tensor([0.3588]))]), Loss: 0.028576409444212914, Test loss: 0.066252700984478\n",
      "[89] State: OrderedDict([('weight', tensor([0.5613])), ('bias', tensor([0.3583]))]), Loss: 0.028234025463461876, Test loss: 0.06515069305896759\n",
      "[90] State: OrderedDict([('weight', tensor([0.5629])), ('bias', tensor([0.3573]))]), Loss: 0.02788739837706089, Test loss: 0.06473556160926819\n",
      "[91] State: OrderedDict([('weight', tensor([0.5647])), ('bias', tensor([0.3568]))]), Loss: 0.02754882536828518, Test loss: 0.06363357603549957\n",
      "[92] State: OrderedDict([('weight', tensor([0.5665])), ('bias', tensor([0.3563]))]), Loss: 0.027199819684028625, Test loss: 0.06253156810998917\n",
      "[93] State: OrderedDict([('weight', tensor([0.5681])), ('bias', tensor([0.3553]))]), Loss: 0.026862185448408127, Test loss: 0.062116436660289764\n",
      "[94] State: OrderedDict([('weight', tensor([0.5699])), ('bias', tensor([0.3548]))]), Loss: 0.02651461586356163, Test loss: 0.061014432460069656\n",
      "[95] State: OrderedDict([('weight', tensor([0.5715])), ('bias', tensor([0.3538]))]), Loss: 0.026173178106546402, Test loss: 0.06059930846095085\n",
      "[96] State: OrderedDict([('weight', tensor([0.5733])), ('bias', tensor([0.3533]))]), Loss: 0.025829419493675232, Test loss: 0.05949730426073074\n",
      "[97] State: OrderedDict([('weight', tensor([0.5748])), ('bias', tensor([0.3523]))]), Loss: 0.02548416517674923, Test loss: 0.05908216908574104\n",
      "[98] State: OrderedDict([('weight', tensor([0.5766])), ('bias', tensor([0.3518]))]), Loss: 0.025144213810563087, Test loss: 0.057980168610811234\n",
      "[99] State: OrderedDict([('weight', tensor([0.5784])), ('bias', tensor([0.3513]))]), Loss: 0.02479521557688713, Test loss: 0.05687814950942993\n",
      "[100] State: OrderedDict([('weight', tensor([0.5800])), ('bias', tensor([0.3503]))]), Loss: 0.024458957836031914, Test loss: 0.05646304413676262\n",
      "[101] State: OrderedDict([('weight', tensor([0.5818])), ('bias', tensor([0.3498]))]), Loss: 0.024110013619065285, Test loss: 0.05536102131009102\n",
      "[102] State: OrderedDict([('weight', tensor([0.5834])), ('bias', tensor([0.3488]))]), Loss: 0.02376994863152504, Test loss: 0.05494590476155281\n",
      "[103] State: OrderedDict([('weight', tensor([0.5852])), ('bias', tensor([0.3483]))]), Loss: 0.02342480979859829, Test loss: 0.05384388566017151\n",
      "[104] State: OrderedDict([('weight', tensor([0.5868])), ('bias', tensor([0.3473]))]), Loss: 0.023080935701727867, Test loss: 0.0534287691116333\n",
      "[105] State: OrderedDict([('weight', tensor([0.5886])), ('bias', tensor([0.3468]))]), Loss: 0.022739607840776443, Test loss: 0.052326757460832596\n",
      "[106] State: OrderedDict([('weight', tensor([0.5902])), ('bias', tensor([0.3458]))]), Loss: 0.022391926497220993, Test loss: 0.05191164091229439\n",
      "[107] State: OrderedDict([('weight', tensor([0.5920])), ('bias', tensor([0.3453]))]), Loss: 0.022054409608244896, Test loss: 0.05080962926149368\n",
      "[108] State: OrderedDict([('weight', tensor([0.5938])), ('bias', tensor([0.3448]))]), Loss: 0.02170540764927864, Test loss: 0.049707621335983276\n",
      "[109] State: OrderedDict([('weight', tensor([0.5954])), ('bias', tensor([0.3438]))]), Loss: 0.021366719156503677, Test loss: 0.04929249361157417\n",
      "[110] State: OrderedDict([('weight', tensor([0.5972])), ('bias', tensor([0.3433]))]), Loss: 0.021020207554101944, Test loss: 0.04819049686193466\n",
      "[111] State: OrderedDict([('weight', tensor([0.5988])), ('bias', tensor([0.3423]))]), Loss: 0.020677709951996803, Test loss: 0.04777535796165466\n",
      "[112] State: OrderedDict([('weight', tensor([0.6006])), ('bias', tensor([0.3418]))]), Loss: 0.02033500373363495, Test loss: 0.046673357486724854\n",
      "[113] State: OrderedDict([('weight', tensor([0.6022])), ('bias', tensor([0.3408]))]), Loss: 0.01998869702219963, Test loss: 0.04625822976231575\n",
      "[114] State: OrderedDict([('weight', tensor([0.6040])), ('bias', tensor([0.3403]))]), Loss: 0.019649803638458252, Test loss: 0.045156221836805344\n",
      "[115] State: OrderedDict([('weight', tensor([0.6058])), ('bias', tensor([0.3398]))]), Loss: 0.019300809130072594, Test loss: 0.04405422881245613\n",
      "[116] State: OrderedDict([('weight', tensor([0.6074])), ('bias', tensor([0.3388]))]), Loss: 0.018963487818837166, Test loss: 0.04363910108804703\n",
      "[117] State: OrderedDict([('weight', tensor([0.6092])), ('bias', tensor([0.3383]))]), Loss: 0.01861560344696045, Test loss: 0.04253707453608513\n",
      "[118] State: OrderedDict([('weight', tensor([0.6108])), ('bias', tensor([0.3373]))]), Loss: 0.018274478614330292, Test loss: 0.042121969163417816\n",
      "[119] State: OrderedDict([('weight', tensor([0.6126])), ('bias', tensor([0.3368]))]), Loss: 0.017930403351783752, Test loss: 0.04101995751261711\n",
      "[120] State: OrderedDict([('weight', tensor([0.6141])), ('bias', tensor([0.3358]))]), Loss: 0.01758546568453312, Test loss: 0.04060482233762741\n",
      "[121] State: OrderedDict([('weight', tensor([0.6159])), ('bias', tensor([0.3353]))]), Loss: 0.017245199531316757, Test loss: 0.0395028181374073\n",
      "[122] State: OrderedDict([('weight', tensor([0.6175])), ('bias', tensor([0.3343]))]), Loss: 0.016896454617381096, Test loss: 0.0390876941382885\n",
      "[123] State: OrderedDict([('weight', tensor([0.6193])), ('bias', tensor([0.3338]))]), Loss: 0.01656000316143036, Test loss: 0.037985701113939285\n",
      "[124] State: OrderedDict([('weight', tensor([0.6211])), ('bias', tensor([0.3333]))]), Loss: 0.016210997477173805, Test loss: 0.03688368946313858\n",
      "[125] State: OrderedDict([('weight', tensor([0.6227])), ('bias', tensor([0.3323]))]), Loss: 0.01587124727666378, Test loss: 0.036468543112277985\n",
      "[126] State: OrderedDict([('weight', tensor([0.6245])), ('bias', tensor([0.3318]))]), Loss: 0.015525798313319683, Test loss: 0.035366542637348175\n",
      "[127] State: OrderedDict([('weight', tensor([0.6261])), ('bias', tensor([0.3308]))]), Loss: 0.015182236209511757, Test loss: 0.034951429814100266\n",
      "[128] State: OrderedDict([('weight', tensor([0.6279])), ('bias', tensor([0.3303]))]), Loss: 0.014840595424175262, Test loss: 0.03384942561388016\n",
      "[129] State: OrderedDict([('weight', tensor([0.6295])), ('bias', tensor([0.3293]))]), Loss: 0.01449323259294033, Test loss: 0.03343429043889046\n",
      "[130] State: OrderedDict([('weight', tensor([0.6313])), ('bias', tensor([0.3288]))]), Loss: 0.014155393466353416, Test loss: 0.03233227878808975\n",
      "[131] State: OrderedDict([('weight', tensor([0.6331])), ('bias', tensor([0.3283]))]), Loss: 0.013806397095322609, Test loss: 0.031230276450514793\n",
      "[132] State: OrderedDict([('weight', tensor([0.6347])), ('bias', tensor([0.3273]))]), Loss: 0.013468016870319843, Test loss: 0.030815154314041138\n",
      "[133] State: OrderedDict([('weight', tensor([0.6365])), ('bias', tensor([0.3268]))]), Loss: 0.013121193274855614, Test loss: 0.02971314825117588\n",
      "[134] State: OrderedDict([('weight', tensor([0.6381])), ('bias', tensor([0.3258]))]), Loss: 0.01277900766581297, Test loss: 0.02929801307618618\n",
      "[135] State: OrderedDict([('weight', tensor([0.6399])), ('bias', tensor([0.3253]))]), Loss: 0.012435992248356342, Test loss: 0.028196018189191818\n",
      "[136] State: OrderedDict([('weight', tensor([0.6415])), ('bias', tensor([0.3243]))]), Loss: 0.01208999752998352, Test loss: 0.027780896052718163\n",
      "[137] State: OrderedDict([('weight', tensor([0.6433])), ('bias', tensor([0.3238]))]), Loss: 0.011750795878469944, Test loss: 0.026678884401917458\n",
      "[138] State: OrderedDict([('weight', tensor([0.6451])), ('bias', tensor([0.3233]))]), Loss: 0.011401787400245667, Test loss: 0.025576870888471603\n",
      "[139] State: OrderedDict([('weight', tensor([0.6467])), ('bias', tensor([0.3223]))]), Loss: 0.011064787395298481, Test loss: 0.025161748751997948\n",
      "[140] State: OrderedDict([('weight', tensor([0.6485])), ('bias', tensor([0.3218]))]), Loss: 0.010716589167714119, Test loss: 0.024059748277068138\n",
      "[141] State: OrderedDict([('weight', tensor([0.6501])), ('bias', tensor([0.3208]))]), Loss: 0.010375778190791607, Test loss: 0.023644620552659035\n",
      "[142] State: OrderedDict([('weight', tensor([0.6519])), ('bias', tensor([0.3203]))]), Loss: 0.010031387209892273, Test loss: 0.022542614489793777\n",
      "[143] State: OrderedDict([('weight', tensor([0.6534])), ('bias', tensor([0.3193]))]), Loss: 0.009686763398349285, Test loss: 0.022127490490674973\n",
      "[144] State: OrderedDict([('weight', tensor([0.6552])), ('bias', tensor([0.3188]))]), Loss: 0.009346187114715576, Test loss: 0.021025484427809715\n",
      "[145] State: OrderedDict([('weight', tensor([0.6568])), ('bias', tensor([0.3178]))]), Loss: 0.008997755125164986, Test loss: 0.020610356703400612\n",
      "[146] State: OrderedDict([('weight', tensor([0.6586])), ('bias', tensor([0.3173]))]), Loss: 0.008660981431603432, Test loss: 0.019508343189954758\n",
      "[147] State: OrderedDict([('weight', tensor([0.6604])), ('bias', tensor([0.3168]))]), Loss: 0.008311985060572624, Test loss: 0.018406350165605545\n",
      "[148] State: OrderedDict([('weight', tensor([0.6620])), ('bias', tensor([0.3158]))]), Loss: 0.007972544990479946, Test loss: 0.017991220578551292\n",
      "[149] State: OrderedDict([('weight', tensor([0.6638])), ('bias', tensor([0.3153]))]), Loss: 0.007626785431057215, Test loss: 0.016889220103621483\n",
      "[150] State: OrderedDict([('weight', tensor([0.6654])), ('bias', tensor([0.3143]))]), Loss: 0.0072835334576666355, Test loss: 0.016474086791276932\n",
      "[151] State: OrderedDict([('weight', tensor([0.6672])), ('bias', tensor([0.3138]))]), Loss: 0.006941580679267645, Test loss: 0.0153720797970891\n",
      "[152] State: OrderedDict([('weight', tensor([0.6688])), ('bias', tensor([0.3128]))]), Loss: 0.006594526115804911, Test loss: 0.01495695672929287\n",
      "[153] State: OrderedDict([('weight', tensor([0.6706])), ('bias', tensor([0.3123]))]), Loss: 0.006256377790123224, Test loss: 0.013854950666427612\n",
      "[154] State: OrderedDict([('weight', tensor([0.6724])), ('bias', tensor([0.3118]))]), Loss: 0.005907376762479544, Test loss: 0.012752944603562355\n",
      "[155] State: OrderedDict([('weight', tensor([0.6740])), ('bias', tensor([0.3108]))]), Loss: 0.005569315515458584, Test loss: 0.012337815947830677\n",
      "[156] State: OrderedDict([('weight', tensor([0.6758])), ('bias', tensor([0.3103]))]), Loss: 0.005222178064286709, Test loss: 0.011235815472900867\n",
      "[157] State: OrderedDict([('weight', tensor([0.6774])), ('bias', tensor([0.3093]))]), Loss: 0.004880306776612997, Test loss: 0.010820692405104637\n",
      "[158] State: OrderedDict([('weight', tensor([0.6792])), ('bias', tensor([0.3088]))]), Loss: 0.004536976106464863, Test loss: 0.009718680754303932\n",
      "[159] State: OrderedDict([('weight', tensor([0.6808])), ('bias', tensor([0.3078]))]), Loss: 0.00419129803776741, Test loss: 0.009303552098572254\n",
      "[160] State: OrderedDict([('weight', tensor([0.6826])), ('bias', tensor([0.3073]))]), Loss: 0.0038517764769494534, Test loss: 0.008201557211577892\n",
      "[161] State: OrderedDict([('weight', tensor([0.6844])), ('bias', tensor([0.3068]))]), Loss: 0.0035027749836444855, Test loss: 0.007099539041519165\n",
      "[162] State: OrderedDict([('weight', tensor([0.6860])), ('bias', tensor([0.3058]))]), Loss: 0.0031660839449614286, Test loss: 0.006684416439384222\n",
      "[163] State: OrderedDict([('weight', tensor([0.6878])), ('bias', tensor([0.3053]))]), Loss: 0.002817571861669421, Test loss: 0.0055824099108576775\n",
      "[164] State: OrderedDict([('weight', tensor([0.6894])), ('bias', tensor([0.3043]))]), Loss: 0.0024770735763013363, Test loss: 0.005167287774384022\n",
      "[165] State: OrderedDict([('weight', tensor([0.6912])), ('bias', tensor([0.3038]))]), Loss: 0.0021323717664927244, Test loss: 0.004065275192260742\n",
      "[166] State: OrderedDict([('weight', tensor([0.6927])), ('bias', tensor([0.3028]))]), Loss: 0.0017880648374557495, Test loss: 0.003650152590125799\n",
      "[167] State: OrderedDict([('weight', tensor([0.6947])), ('bias', tensor([0.3028]))]), Loss: 0.0014518328243866563, Test loss: 0.0018701612716540694\n",
      "[168] State: OrderedDict([('weight', tensor([0.6951])), ('bias', tensor([0.2993]))]), Loss: 0.0011887758737429976, Test loss: 0.005023092031478882\n",
      "[169] State: OrderedDict([('weight', tensor([0.6990])), ('bias', tensor([0.3093]))]), Loss: 0.0025885067880153656, Test loss: 0.008447891101241112\n",
      "[170] State: OrderedDict([('weight', tensor([0.6951])), ('bias', tensor([0.2993]))]), Loss: 0.008932482451200485, Test loss: 0.005023092031478882\n",
      "[171] State: OrderedDict([('weight', tensor([0.6990])), ('bias', tensor([0.3093]))]), Loss: 0.0025885067880153656, Test loss: 0.008447891101241112\n",
      "[172] State: OrderedDict([('weight', tensor([0.6951])), ('bias', tensor([0.2993]))]), Loss: 0.008932482451200485, Test loss: 0.005023092031478882\n",
      "[173] State: OrderedDict([('weight', tensor([0.6990])), ('bias', tensor([0.3093]))]), Loss: 0.0025885067880153656, Test loss: 0.008447891101241112\n",
      "[174] State: OrderedDict([('weight', tensor([0.6951])), ('bias', tensor([0.2993]))]), Loss: 0.008932482451200485, Test loss: 0.005023092031478882\n",
      "[175] State: OrderedDict([('weight', tensor([0.6990])), ('bias', tensor([0.3093]))]), Loss: 0.0025885067880153656, Test loss: 0.008447891101241112\n",
      "[176] State: OrderedDict([('weight', tensor([0.6951])), ('bias', tensor([0.2993]))]), Loss: 0.008932482451200485, Test loss: 0.005023092031478882\n",
      "[177] State: OrderedDict([('weight', tensor([0.6990])), ('bias', tensor([0.3093]))]), Loss: 0.0025885067880153656, Test loss: 0.008447891101241112\n",
      "[178] State: OrderedDict([('weight', tensor([0.6951])), ('bias', tensor([0.2993]))]), Loss: 0.008932482451200485, Test loss: 0.005023092031478882\n",
      "[179] State: OrderedDict([('weight', tensor([0.6990])), ('bias', tensor([0.3093]))]), Loss: 0.0025885067880153656, Test loss: 0.008447891101241112\n",
      "[180] State: OrderedDict([('weight', tensor([0.6951])), ('bias', tensor([0.2993]))]), Loss: 0.008932482451200485, Test loss: 0.005023092031478882\n",
      "[181] State: OrderedDict([('weight', tensor([0.6990])), ('bias', tensor([0.3093]))]), Loss: 0.0025885067880153656, Test loss: 0.008447891101241112\n",
      "[182] State: OrderedDict([('weight', tensor([0.6951])), ('bias', tensor([0.2993]))]), Loss: 0.008932482451200485, Test loss: 0.005023092031478882\n",
      "[183] State: OrderedDict([('weight', tensor([0.6990])), ('bias', tensor([0.3093]))]), Loss: 0.0025885067880153656, Test loss: 0.008447891101241112\n",
      "[184] State: OrderedDict([('weight', tensor([0.6951])), ('bias', tensor([0.2993]))]), Loss: 0.008932482451200485, Test loss: 0.005023092031478882\n",
      "[185] State: OrderedDict([('weight', tensor([0.6990])), ('bias', tensor([0.3093]))]), Loss: 0.0025885067880153656, Test loss: 0.008447891101241112\n",
      "[186] State: OrderedDict([('weight', tensor([0.6951])), ('bias', tensor([0.2993]))]), Loss: 0.008932482451200485, Test loss: 0.005023092031478882\n",
      "[187] State: OrderedDict([('weight', tensor([0.6990])), ('bias', tensor([0.3093]))]), Loss: 0.0025885067880153656, Test loss: 0.008447891101241112\n",
      "[188] State: OrderedDict([('weight', tensor([0.6951])), ('bias', tensor([0.2993]))]), Loss: 0.008932482451200485, Test loss: 0.005023092031478882\n",
      "[189] State: OrderedDict([('weight', tensor([0.6990])), ('bias', tensor([0.3093]))]), Loss: 0.0025885067880153656, Test loss: 0.008447891101241112\n",
      "[190] State: OrderedDict([('weight', tensor([0.6951])), ('bias', tensor([0.2993]))]), Loss: 0.008932482451200485, Test loss: 0.005023092031478882\n",
      "[191] State: OrderedDict([('weight', tensor([0.6990])), ('bias', tensor([0.3093]))]), Loss: 0.0025885067880153656, Test loss: 0.008447891101241112\n",
      "[192] State: OrderedDict([('weight', tensor([0.6951])), ('bias', tensor([0.2993]))]), Loss: 0.008932482451200485, Test loss: 0.005023092031478882\n",
      "[193] State: OrderedDict([('weight', tensor([0.6990])), ('bias', tensor([0.3093]))]), Loss: 0.0025885067880153656, Test loss: 0.008447891101241112\n",
      "[194] State: OrderedDict([('weight', tensor([0.6951])), ('bias', tensor([0.2993]))]), Loss: 0.008932482451200485, Test loss: 0.005023092031478882\n",
      "[195] State: OrderedDict([('weight', tensor([0.6990])), ('bias', tensor([0.3093]))]), Loss: 0.0025885067880153656, Test loss: 0.008447891101241112\n",
      "[196] State: OrderedDict([('weight', tensor([0.6951])), ('bias', tensor([0.2993]))]), Loss: 0.008932482451200485, Test loss: 0.005023092031478882\n",
      "[197] State: OrderedDict([('weight', tensor([0.6990])), ('bias', tensor([0.3093]))]), Loss: 0.0025885067880153656, Test loss: 0.008447891101241112\n",
      "[198] State: OrderedDict([('weight', tensor([0.6951])), ('bias', tensor([0.2993]))]), Loss: 0.008932482451200485, Test loss: 0.005023092031478882\n",
      "[199] State: OrderedDict([('weight', tensor([0.6990])), ('bias', tensor([0.3093]))]), Loss: 0.0025885067880153656, Test loss: 0.008447891101241112\n",
      "[200] State: OrderedDict([('weight', tensor([0.6951])), ('bias', tensor([0.2993]))]), Loss: 0.008932482451200485, Test loss: 0.005023092031478882\n",
      "[201] State: OrderedDict([('weight', tensor([0.6990])), ('bias', tensor([0.3093]))]), Loss: 0.0025885067880153656, Test loss: 0.008447891101241112\n",
      "[202] State: OrderedDict([('weight', tensor([0.6951])), ('bias', tensor([0.2993]))]), Loss: 0.008932482451200485, Test loss: 0.005023092031478882\n",
      "[203] State: OrderedDict([('weight', tensor([0.6990])), ('bias', tensor([0.3093]))]), Loss: 0.0025885067880153656, Test loss: 0.008447891101241112\n",
      "[204] State: OrderedDict([('weight', tensor([0.6951])), ('bias', tensor([0.2993]))]), Loss: 0.008932482451200485, Test loss: 0.005023092031478882\n",
      "[205] State: OrderedDict([('weight', tensor([0.6990])), ('bias', tensor([0.3093]))]), Loss: 0.0025885067880153656, Test loss: 0.008447891101241112\n",
      "[206] State: OrderedDict([('weight', tensor([0.6951])), ('bias', tensor([0.2993]))]), Loss: 0.008932482451200485, Test loss: 0.005023092031478882\n",
      "[207] State: OrderedDict([('weight', tensor([0.6990])), ('bias', tensor([0.3093]))]), Loss: 0.0025885067880153656, Test loss: 0.008447891101241112\n",
      "[208] State: OrderedDict([('weight', tensor([0.6951])), ('bias', tensor([0.2993]))]), Loss: 0.008932482451200485, Test loss: 0.005023092031478882\n",
      "[209] State: OrderedDict([('weight', tensor([0.6990])), ('bias', tensor([0.3093]))]), Loss: 0.0025885067880153656, Test loss: 0.008447891101241112\n",
      "[210] State: OrderedDict([('weight', tensor([0.6951])), ('bias', tensor([0.2993]))]), Loss: 0.008932482451200485, Test loss: 0.005023092031478882\n",
      "[211] State: OrderedDict([('weight', tensor([0.6990])), ('bias', tensor([0.3093]))]), Loss: 0.0025885067880153656, Test loss: 0.008447891101241112\n",
      "[212] State: OrderedDict([('weight', tensor([0.6951])), ('bias', tensor([0.2993]))]), Loss: 0.008932482451200485, Test loss: 0.005023092031478882\n",
      "[213] State: OrderedDict([('weight', tensor([0.6990])), ('bias', tensor([0.3093]))]), Loss: 0.0025885067880153656, Test loss: 0.008447891101241112\n",
      "[214] State: OrderedDict([('weight', tensor([0.6951])), ('bias', tensor([0.2993]))]), Loss: 0.008932482451200485, Test loss: 0.005023092031478882\n",
      "[215] State: OrderedDict([('weight', tensor([0.6990])), ('bias', tensor([0.3093]))]), Loss: 0.0025885067880153656, Test loss: 0.008447891101241112\n",
      "[216] State: OrderedDict([('weight', tensor([0.6951])), ('bias', tensor([0.2993]))]), Loss: 0.008932482451200485, Test loss: 0.005023092031478882\n",
      "[217] State: OrderedDict([('weight', tensor([0.6990])), ('bias', tensor([0.3093]))]), Loss: 0.0025885067880153656, Test loss: 0.008447891101241112\n",
      "[218] State: OrderedDict([('weight', tensor([0.6951])), ('bias', tensor([0.2993]))]), Loss: 0.008932482451200485, Test loss: 0.005023092031478882\n",
      "[219] State: OrderedDict([('weight', tensor([0.6990])), ('bias', tensor([0.3093]))]), Loss: 0.0025885067880153656, Test loss: 0.008447891101241112\n",
      "[220] State: OrderedDict([('weight', tensor([0.6951])), ('bias', tensor([0.2993]))]), Loss: 0.008932482451200485, Test loss: 0.005023092031478882\n",
      "[221] State: OrderedDict([('weight', tensor([0.6990])), ('bias', tensor([0.3093]))]), Loss: 0.0025885067880153656, Test loss: 0.008447891101241112\n",
      "[222] State: OrderedDict([('weight', tensor([0.6951])), ('bias', tensor([0.2993]))]), Loss: 0.008932482451200485, Test loss: 0.005023092031478882\n",
      "[223] State: OrderedDict([('weight', tensor([0.6990])), ('bias', tensor([0.3093]))]), Loss: 0.0025885067880153656, Test loss: 0.008447891101241112\n",
      "[224] State: OrderedDict([('weight', tensor([0.6951])), ('bias', tensor([0.2993]))]), Loss: 0.008932482451200485, Test loss: 0.005023092031478882\n",
      "[225] State: OrderedDict([('weight', tensor([0.6990])), ('bias', tensor([0.3093]))]), Loss: 0.0025885067880153656, Test loss: 0.008447891101241112\n",
      "[226] State: OrderedDict([('weight', tensor([0.6951])), ('bias', tensor([0.2993]))]), Loss: 0.008932482451200485, Test loss: 0.005023092031478882\n",
      "[227] State: OrderedDict([('weight', tensor([0.6990])), ('bias', tensor([0.3093]))]), Loss: 0.0025885067880153656, Test loss: 0.008447891101241112\n",
      "[228] State: OrderedDict([('weight', tensor([0.6951])), ('bias', tensor([0.2993]))]), Loss: 0.008932482451200485, Test loss: 0.005023092031478882\n",
      "[229] State: OrderedDict([('weight', tensor([0.6990])), ('bias', tensor([0.3093]))]), Loss: 0.0025885067880153656, Test loss: 0.008447891101241112\n",
      "[230] State: OrderedDict([('weight', tensor([0.6951])), ('bias', tensor([0.2993]))]), Loss: 0.008932482451200485, Test loss: 0.005023092031478882\n",
      "[231] State: OrderedDict([('weight', tensor([0.6990])), ('bias', tensor([0.3093]))]), Loss: 0.0025885067880153656, Test loss: 0.008447891101241112\n",
      "[232] State: OrderedDict([('weight', tensor([0.6951])), ('bias', tensor([0.2993]))]), Loss: 0.008932482451200485, Test loss: 0.005023092031478882\n",
      "[233] State: OrderedDict([('weight', tensor([0.6990])), ('bias', tensor([0.3093]))]), Loss: 0.0025885067880153656, Test loss: 0.008447891101241112\n",
      "[234] State: OrderedDict([('weight', tensor([0.6951])), ('bias', tensor([0.2993]))]), Loss: 0.008932482451200485, Test loss: 0.005023092031478882\n",
      "[235] State: OrderedDict([('weight', tensor([0.6990])), ('bias', tensor([0.3093]))]), Loss: 0.0025885067880153656, Test loss: 0.008447891101241112\n",
      "[236] State: OrderedDict([('weight', tensor([0.6951])), ('bias', tensor([0.2993]))]), Loss: 0.008932482451200485, Test loss: 0.005023092031478882\n",
      "[237] State: OrderedDict([('weight', tensor([0.6990])), ('bias', tensor([0.3093]))]), Loss: 0.0025885067880153656, Test loss: 0.008447891101241112\n",
      "[238] State: OrderedDict([('weight', tensor([0.6951])), ('bias', tensor([0.2993]))]), Loss: 0.008932482451200485, Test loss: 0.005023092031478882\n",
      "[239] State: OrderedDict([('weight', tensor([0.6990])), ('bias', tensor([0.3093]))]), Loss: 0.0025885067880153656, Test loss: 0.008447891101241112\n",
      "[240] State: OrderedDict([('weight', tensor([0.6951])), ('bias', tensor([0.2993]))]), Loss: 0.008932482451200485, Test loss: 0.005023092031478882\n",
      "[241] State: OrderedDict([('weight', tensor([0.6990])), ('bias', tensor([0.3093]))]), Loss: 0.0025885067880153656, Test loss: 0.008447891101241112\n",
      "[242] State: OrderedDict([('weight', tensor([0.6951])), ('bias', tensor([0.2993]))]), Loss: 0.008932482451200485, Test loss: 0.005023092031478882\n",
      "[243] State: OrderedDict([('weight', tensor([0.6990])), ('bias', tensor([0.3093]))]), Loss: 0.0025885067880153656, Test loss: 0.008447891101241112\n",
      "[244] State: OrderedDict([('weight', tensor([0.6951])), ('bias', tensor([0.2993]))]), Loss: 0.008932482451200485, Test loss: 0.005023092031478882\n",
      "[245] State: OrderedDict([('weight', tensor([0.6990])), ('bias', tensor([0.3093]))]), Loss: 0.0025885067880153656, Test loss: 0.008447891101241112\n",
      "[246] State: OrderedDict([('weight', tensor([0.6951])), ('bias', tensor([0.2993]))]), Loss: 0.008932482451200485, Test loss: 0.005023092031478882\n",
      "[247] State: OrderedDict([('weight', tensor([0.6990])), ('bias', tensor([0.3093]))]), Loss: 0.0025885067880153656, Test loss: 0.008447891101241112\n",
      "[248] State: OrderedDict([('weight', tensor([0.6951])), ('bias', tensor([0.2993]))]), Loss: 0.008932482451200485, Test loss: 0.005023092031478882\n",
      "[249] State: OrderedDict([('weight', tensor([0.6990])), ('bias', tensor([0.3093]))]), Loss: 0.0025885067880153656, Test loss: 0.008447891101241112\n"
     ]
    }
   ],
   "source": [
    "# An epoch (hyperparameter) is a loop through the data\n",
    "epochs = 250\n",
    "\n",
    "torch.manual_seed(42)\n",
    "\n",
    "# step 0\n",
    "for epoch in range(epochs):\n",
    "\tmodel_0.train() # sets all parameters in model to require gradients\n",
    "\t\n",
    "\t# step 1\n",
    "\ty_pred = model_0(X_train)\n",
    "\n",
    "\t# step 2\n",
    "\tloss = loss_fn(y_pred, y_train)\n",
    "\n",
    "\t# step 3\n",
    "\toptimizer.zero_grad()\n",
    "\n",
    "\t# step 4\n",
    "\tloss.backward()\n",
    "\n",
    "\t# step 5\n",
    "\toptimizer.step() # by default how the optimizer changes will accumulate through to loop... so we have to zero them above in step 3 for the next epoch\n",
    "\t\n",
    "\t### Testing\n",
    "\tmodel_0.eval() # turns off settings not required for eval/testing\n",
    "\n",
    "\twith torch.inference_mode(): # turns off gradient tracking & a couple more things behind the scenes\n",
    "\t\t# step 1\n",
    "\t\ttest_pred = model_0(X_test)\n",
    "\n",
    "\t\t# step 2\n",
    "\t\ttest_loss = loss_fn(test_pred, y_test)\n",
    "\t\n",
    "\tepoch_count.append(epoch)\n",
    "\tloss_values.append(loss)\n",
    "\ttest_loss_values.append(test_loss)\n",
    "\n",
    "\tprint(f\"[{epoch}] State: {model_0.state_dict()}, Loss: {loss}, Test loss: {test_loss}\")"
   ]
  },
  {
   "cell_type": "code",
   "execution_count": 82,
   "metadata": {},
   "outputs": [],
   "source": [
    "with torch.inference_mode():\n",
    "\ty_preds_new = model_0(X_test)"
   ]
  },
  {
   "cell_type": "code",
   "execution_count": 83,
   "metadata": {},
   "outputs": [
    {
     "data": {
      "image/png": "[encoded data removed]",
      "text/plain": [
       "<Figure size 1000x700 with 1 Axes>"
      ]
     },
     "metadata": {},
     "output_type": "display_data"
    }
   ],
   "source": [
    "plot_predictions(predictions=y_preds_new)"
   ]
  },
  {
   "cell_type": "code",
   "execution_count": 86,
   "metadata": {},
   "outputs": [
    {
     "data": {
      "text/plain": [
       "<matplotlib.legend.Legend at 0x7f973875be10>"
      ]
     },
     "execution_count": 86,
     "metadata": {},
     "output_type": "execute_result"
    },
    {
     "data": {
      "image/png": "[encoded data removed]",
      "text/plain": [
       "<Figure size 640x480 with 1 Axes>"
      ]
     },
     "metadata": {},
     "output_type": "display_data"
    }
   ],
   "source": [
    "import numpy as np\n",
    "\n",
    "# plot loss curves\n",
    "plt.plot(epoch_count, np.array(torch.tensor(loss_values).numpy()), label=\"Train loss\")\n",
    "plt.plot(epoch_count, np.array(torch.tensor(test_loss_values).numpy()), label=\"Test loss\")\n",
    "plt.title(\"TRaining and test loss curves\")\n",
    "plt.ylabel(\"Loss\")\n",
    "plt.legend()\n",
    "\n"
   ]
  },
  {
   "cell_type": "markdown",
   "metadata": {},
   "source": [
    "## Saving/Loading models in PyTorch\n",
    "\n",
    "1. `torch.save()`: Save a pytorch object in python's pickle format\n",
    "2. `torch.load()`: Allows you to load a saved PyTorch object\n",
    "3. `torch.nn.Module.load_state_dict()`: Allows to load a model's saved state dictionary (`.state_dict()`)"
   ]
  },
  {
   "cell_type": "code",
   "execution_count": 88,
   "metadata": {},
   "outputs": [],
   "source": [
    "# save\n",
    "from pathlib import Path\n",
    "\n",
    "MODEL_DIR = Path(\"models\")\n",
    "MODEL_DIR.mkdir(parents=True, exist_ok=True)\n",
    "\n",
    "MODEL_NAME=\"pytorch_workflow.pth\"\n",
    "MODEL_SAVE_PATH=MODEL_DIR/MODEL_NAME\n",
    "\n",
    "torch.save(obj=model_0.state_dict(), f=MODEL_SAVE_PATH)"
   ]
  },
  {
   "cell_type": "code",
   "execution_count": 92,
   "metadata": {},
   "outputs": [
    {
     "data": {
      "text/plain": [
       "OrderedDict([('weight', tensor([0.6990])), ('bias', tensor([0.3093]))])"
      ]
     },
     "execution_count": 92,
     "metadata": {},
     "output_type": "execute_result"
    }
   ],
   "source": [
    "# load\n",
    "loaded_model_0 = LinearRegressionModel()\n",
    "loaded_model_0.load_state_dict(state_dict=torch.load(MODEL_SAVE_PATH))\n",
    "loaded_model_0.state_dict()"
   ]
  }
 ],
 "metadata": {
  "kernelspec": {
   "display_name": "Python 3",
   "language": "python",
   "name": "python3"
  },
  "language_info": {
   "codemirror_mode": {
    "name": "ipython",
    "version": 3
   },
   "file_extension": ".py",
   "mimetype": "text/x-python",
   "name": "python",
   "nbconvert_exporter": "python",
   "pygments_lexer": "ipython3",
   "version": "3.11.7"
  }
 },
 "nbformat": 4,
 "nbformat_minor": 2
}
